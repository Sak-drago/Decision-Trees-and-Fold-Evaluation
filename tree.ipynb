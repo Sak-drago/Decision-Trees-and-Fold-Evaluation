{
 "cells": [
  {
   "cell_type": "markdown",
   "metadata": {},
   "source": [
    "# Decision Trees\n",
    "## We can only use numpy and panads\n",
    "\n",
    "Q3. Implement a Decision Tree Classifier in Python without using sklearn.tree.\n",
    "[3]\n",
    "You are allowed to use the following libraries:\n",
    "• numpy for numerical computations\n",
    "• pandas for data handling\n",
    "Your implementation should support:\n",
    "1. Binary Splitting: The tree should split data based on the feature and\n",
    "threshold that minimize impurity.\n",
    "2. Impurity Metrics: Implement Gini Impurity.\n",
    "3. Recursive Tree Construction: Implement a recursive function to build\n",
    "the tree.\n",
    "4. Prediction: Implement a function to classify new data points using the\n",
    "trained tree.\n",
    "5. Stopping Conditions: Include stopping criteria based on:\n",
    "• Maximum depth of the tree.\n",
    "• Minimum number of samples per leaf node."
   ]
  },
  {
   "cell_type": "code",
   "execution_count": 8,
   "metadata": {},
   "outputs": [
    {
     "name": "stdout",
     "output_type": "stream",
     "text": [
      "Requirement already satisfied: numpy in /home/sakie/Desktop/repos/Event-Horizon-Orion/backend/venv/lib/python3.11/site-packages (2.2.4)\n",
      "Note: you may need to restart the kernel to use updated packages.\n",
      "Requirement already satisfied: pandas in /home/sakie/Desktop/repos/Event-Horizon-Orion/backend/venv/lib/python3.11/site-packages (2.2.3)\n",
      "Requirement already satisfied: numpy>=1.23.2 in /home/sakie/Desktop/repos/Event-Horizon-Orion/backend/venv/lib/python3.11/site-packages (from pandas) (2.2.4)\n",
      "Requirement already satisfied: python-dateutil>=2.8.2 in /home/sakie/Desktop/repos/Event-Horizon-Orion/backend/venv/lib/python3.11/site-packages (from pandas) (2.9.0.post0)\n",
      "Requirement already satisfied: pytz>=2020.1 in /home/sakie/Desktop/repos/Event-Horizon-Orion/backend/venv/lib/python3.11/site-packages (from pandas) (2025.2)\n",
      "Requirement already satisfied: tzdata>=2022.7 in /home/sakie/Desktop/repos/Event-Horizon-Orion/backend/venv/lib/python3.11/site-packages (from pandas) (2025.2)\n",
      "Requirement already satisfied: six>=1.5 in /home/sakie/Desktop/repos/Event-Horizon-Orion/backend/venv/lib/python3.11/site-packages (from python-dateutil>=2.8.2->pandas) (1.17.0)\n",
      "Note: you may need to restart the kernel to use updated packages.\n"
     ]
    }
   ],
   "source": [
    "%pip install numpy\n",
    "%pip install pandas"
   ]
  },
  {
   "cell_type": "code",
   "execution_count": 9,
   "metadata": {},
   "outputs": [],
   "source": [
    "import numpy as np\n",
    "import pandas as pd"
   ]
  },
  {
   "cell_type": "markdown",
   "metadata": {},
   "source": [
    "High - 2\n",
    "Medium - 1\n",
    "Low - 0\n",
    "\n",
    "No - 0\n",
    "Yes - 1\n",
    "\n",
    "Fair - 0\n",
    "Excellent - 1"
   ]
  },
  {
   "cell_type": "code",
   "execution_count": null,
   "metadata": {},
   "outputs": [],
   "source": [
    "sample_table = [[25,2,0,0,0],[30,2,0,1,0],[35,1,0, 0,1],[40,0,0,0,1],[45,0,0,0,1],[50,0,1,1,0],[55,1,1,1,1],[60,2,0,0,0]]\n",
    "sample_table_coloumns = [\"Age\", \"Income\", \"Student\", \"Credit Rating\", \"Buy Computer\"]\n",
    "df = pd.DataFrame.from_records(sample_table, columns=sample_table_coloumns)"
   ]
  },
  {
   "cell_type": "code",
   "execution_count": 11,
   "metadata": {},
   "outputs": [
    {
     "name": "stdout",
     "output_type": "stream",
     "text": [
      "   Age  Income  Student  Credit Rating  Buy Computer\n",
      "0   25       2        0              0             0\n",
      "1   30       2        0              1             0\n",
      "2   35       1        0              0             1\n",
      "3   40       0        0              0             1\n",
      "4   45       0        0              0             1\n",
      "5   50       0        1              1             0\n",
      "6   55       1        1              1             1\n",
      "7   60       2        0              0             0\n"
     ]
    }
   ],
   "source": [
    "print(df)"
   ]
  },
  {
   "cell_type": "code",
   "execution_count": 12,
   "metadata": {},
   "outputs": [
    {
     "ename": "KeyError",
     "evalue": "0",
     "output_type": "error",
     "traceback": [
      "\u001b[31m---------------------------------------------------------------------------\u001b[39m",
      "\u001b[31mKeyError\u001b[39m                                  Traceback (most recent call last)",
      "\u001b[36mFile \u001b[39m\u001b[32m~/Desktop/repos/Event-Horizon-Orion/backend/venv/lib/python3.11/site-packages/pandas/core/indexes/base.py:3805\u001b[39m, in \u001b[36mIndex.get_loc\u001b[39m\u001b[34m(self, key)\u001b[39m\n\u001b[32m   3804\u001b[39m \u001b[38;5;28;01mtry\u001b[39;00m:\n\u001b[32m-> \u001b[39m\u001b[32m3805\u001b[39m     \u001b[38;5;28;01mreturn\u001b[39;00m \u001b[38;5;28;43mself\u001b[39;49m\u001b[43m.\u001b[49m\u001b[43m_engine\u001b[49m\u001b[43m.\u001b[49m\u001b[43mget_loc\u001b[49m\u001b[43m(\u001b[49m\u001b[43mcasted_key\u001b[49m\u001b[43m)\u001b[49m\n\u001b[32m   3806\u001b[39m \u001b[38;5;28;01mexcept\u001b[39;00m \u001b[38;5;167;01mKeyError\u001b[39;00m \u001b[38;5;28;01mas\u001b[39;00m err:\n",
      "\u001b[36mFile \u001b[39m\u001b[32mindex.pyx:167\u001b[39m, in \u001b[36mpandas._libs.index.IndexEngine.get_loc\u001b[39m\u001b[34m()\u001b[39m\n",
      "\u001b[36mFile \u001b[39m\u001b[32mindex.pyx:196\u001b[39m, in \u001b[36mpandas._libs.index.IndexEngine.get_loc\u001b[39m\u001b[34m()\u001b[39m\n",
      "\u001b[36mFile \u001b[39m\u001b[32mpandas/_libs/hashtable_class_helper.pxi:7081\u001b[39m, in \u001b[36mpandas._libs.hashtable.PyObjectHashTable.get_item\u001b[39m\u001b[34m()\u001b[39m\n",
      "\u001b[36mFile \u001b[39m\u001b[32mpandas/_libs/hashtable_class_helper.pxi:7089\u001b[39m, in \u001b[36mpandas._libs.hashtable.PyObjectHashTable.get_item\u001b[39m\u001b[34m()\u001b[39m\n",
      "\u001b[31mKeyError\u001b[39m: 0",
      "\nThe above exception was the direct cause of the following exception:\n",
      "\u001b[31mKeyError\u001b[39m                                  Traceback (most recent call last)",
      "\u001b[36mCell\u001b[39m\u001b[36m \u001b[39m\u001b[32mIn[12]\u001b[39m\u001b[32m, line 35\u001b[39m\n\u001b[32m     33\u001b[39m \u001b[38;5;28;01mfor\u001b[39;00m idx \u001b[38;5;129;01min\u001b[39;00m \u001b[38;5;28mrange\u001b[39m(\u001b[38;5;28mlen\u001b[39m(sample_table_coloumns)):\n\u001b[32m     34\u001b[39m     \u001b[38;5;28;01mfor\u001b[39;00m feature \u001b[38;5;129;01min\u001b[39;00m feature_array:\n\u001b[32m---> \u001b[39m\u001b[32m35\u001b[39m         left_split = df[\u001b[43mdf\u001b[49m\u001b[43m[\u001b[49m\u001b[43midx\u001b[49m\u001b[43m]\u001b[49m < feature]\n\u001b[32m     36\u001b[39m         right_split = df[df[idx]>= feature]\n\u001b[32m     38\u001b[39m     gini_impurity = weight_gini_impurity(left_split,right_split)\n",
      "\u001b[36mFile \u001b[39m\u001b[32m~/Desktop/repos/Event-Horizon-Orion/backend/venv/lib/python3.11/site-packages/pandas/core/frame.py:4102\u001b[39m, in \u001b[36mDataFrame.__getitem__\u001b[39m\u001b[34m(self, key)\u001b[39m\n\u001b[32m   4100\u001b[39m \u001b[38;5;28;01mif\u001b[39;00m \u001b[38;5;28mself\u001b[39m.columns.nlevels > \u001b[32m1\u001b[39m:\n\u001b[32m   4101\u001b[39m     \u001b[38;5;28;01mreturn\u001b[39;00m \u001b[38;5;28mself\u001b[39m._getitem_multilevel(key)\n\u001b[32m-> \u001b[39m\u001b[32m4102\u001b[39m indexer = \u001b[38;5;28;43mself\u001b[39;49m\u001b[43m.\u001b[49m\u001b[43mcolumns\u001b[49m\u001b[43m.\u001b[49m\u001b[43mget_loc\u001b[49m\u001b[43m(\u001b[49m\u001b[43mkey\u001b[49m\u001b[43m)\u001b[49m\n\u001b[32m   4103\u001b[39m \u001b[38;5;28;01mif\u001b[39;00m is_integer(indexer):\n\u001b[32m   4104\u001b[39m     indexer = [indexer]\n",
      "\u001b[36mFile \u001b[39m\u001b[32m~/Desktop/repos/Event-Horizon-Orion/backend/venv/lib/python3.11/site-packages/pandas/core/indexes/base.py:3812\u001b[39m, in \u001b[36mIndex.get_loc\u001b[39m\u001b[34m(self, key)\u001b[39m\n\u001b[32m   3807\u001b[39m     \u001b[38;5;28;01mif\u001b[39;00m \u001b[38;5;28misinstance\u001b[39m(casted_key, \u001b[38;5;28mslice\u001b[39m) \u001b[38;5;129;01mor\u001b[39;00m (\n\u001b[32m   3808\u001b[39m         \u001b[38;5;28misinstance\u001b[39m(casted_key, abc.Iterable)\n\u001b[32m   3809\u001b[39m         \u001b[38;5;129;01mand\u001b[39;00m \u001b[38;5;28many\u001b[39m(\u001b[38;5;28misinstance\u001b[39m(x, \u001b[38;5;28mslice\u001b[39m) \u001b[38;5;28;01mfor\u001b[39;00m x \u001b[38;5;129;01min\u001b[39;00m casted_key)\n\u001b[32m   3810\u001b[39m     ):\n\u001b[32m   3811\u001b[39m         \u001b[38;5;28;01mraise\u001b[39;00m InvalidIndexError(key)\n\u001b[32m-> \u001b[39m\u001b[32m3812\u001b[39m     \u001b[38;5;28;01mraise\u001b[39;00m \u001b[38;5;167;01mKeyError\u001b[39;00m(key) \u001b[38;5;28;01mfrom\u001b[39;00m\u001b[38;5;250m \u001b[39m\u001b[34;01merr\u001b[39;00m\n\u001b[32m   3813\u001b[39m \u001b[38;5;28;01mexcept\u001b[39;00m \u001b[38;5;167;01mTypeError\u001b[39;00m:\n\u001b[32m   3814\u001b[39m     \u001b[38;5;66;03m# If we have a listlike key, _check_indexing_error will raise\u001b[39;00m\n\u001b[32m   3815\u001b[39m     \u001b[38;5;66;03m#  InvalidIndexError. Otherwise we fall through and re-raise\u001b[39;00m\n\u001b[32m   3816\u001b[39m     \u001b[38;5;66;03m#  the TypeError.\u001b[39;00m\n\u001b[32m   3817\u001b[39m     \u001b[38;5;28mself\u001b[39m._check_indexing_error(key)\n",
      "\u001b[31mKeyError\u001b[39m: 0"
     ]
    }
   ],
   "source": [
    "def calculate_gini(p_class):\n",
    "    return 2*(1-p_class)*(p_class)\n",
    "\n",
    "def weight_gini_impurity(left, right):\n",
    "    number_left = len(left)\n",
    "    number_right = len(right)\n",
    "    total = number_right+number_left\n",
    "    p_left = 0\n",
    "    if(number_left>0):\n",
    "        p_left = sum(left) / number_left\n",
    "    \n",
    "    p_right = 0\n",
    "    if(number_right>0):\n",
    "        p_right = sum(left) / number_right\n",
    "    \n",
    "    gini_left = calculate_gini(p_left)\n",
    "    gini_right = calculate_gini(p_right)\n",
    "\n",
    "    return ((number_left/total)*gini_left) + ((number_right/total)*gini_right)\n",
    "\n",
    "income_label = [0,1,2]\n",
    "student_status_label = [0,1]\n",
    "credit_status = [0,1]\n",
    "age_status = [25,30,35,40,45,50,55,60]\n",
    "\n",
    "feature_array = [age_status, income_label, student_status_label, credit_status]\n",
    "\n",
    "best_gini = float('inf')\n",
    "best_feature = None\n",
    "best_split = None\n",
    "\n",
    "# Calculating the best split, < and >=\n",
    "for idx in range(len(sample_table_coloumns)):\n",
    "    for feature in feature_array:\n",
    "        left_split = df[df[idx] < feature]\n",
    "        right_split = df[df[idx]>= feature]\n",
    "    \n",
    "    gini_impurity = weight_gini_impurity(left_split,right_split)\n",
    "    if gini_impurity < best_gini:\n",
    "        best_gini = gini_impurity\n",
    "        best_feature = df[idx]\n",
    "        best_split = feature\n",
    "\n",
    "print(best_gini)\n",
    "\n"
   ]
  }
 ],
 "metadata": {
  "kernelspec": {
   "display_name": "venv",
   "language": "python",
   "name": "python3"
  },
  "language_info": {
   "codemirror_mode": {
    "name": "ipython",
    "version": 3
   },
   "file_extension": ".py",
   "mimetype": "text/x-python",
   "name": "python",
   "nbconvert_exporter": "python",
   "pygments_lexer": "ipython3",
   "version": "3.11.2"
  }
 },
 "nbformat": 4,
 "nbformat_minor": 2
}
