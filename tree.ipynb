{
 "cells": [
  {
   "cell_type": "markdown",
   "metadata": {},
   "source": [
    "# Decision Trees\n",
    "## We can only use numpy and panads\n",
    "\n",
    "Q3. Implement a Decision Tree Classifier in Python without using sklearn.tree.\n",
    "[3]\n",
    "You are allowed to use the following libraries:\n",
    "• numpy for numerical computations\n",
    "• pandas for data handling\n",
    "Your implementation should support:\n",
    "1. Binary Splitting: The tree should split data based on the feature and\n",
    "threshold that minimize impurity.\n",
    "2. Impurity Metrics: Implement Gini Impurity.\n",
    "3. Recursive Tree Construction: Implement a recursive function to build\n",
    "the tree.\n",
    "4. Prediction: Implement a function to classify new data points using the\n",
    "trained tree.\n",
    "5. Stopping Conditions: Include stopping criteria based on:\n",
    "• Maximum depth of the tree.\n",
    "• Minimum number of samples per leaf node."
   ]
  },
  {
   "cell_type": "code",
   "execution_count": 5,
   "metadata": {},
   "outputs": [
    {
     "name": "stdout",
     "output_type": "stream",
     "text": [
      "Requirement already satisfied: numpy in /home/sakie/Desktop/repos/Event-Horizon-Orion/backend/venv/lib/python3.11/site-packages (2.2.4)\n",
      "Note: you may need to restart the kernel to use updated packages.\n",
      "Requirement already satisfied: pandas in /home/sakie/Desktop/repos/Event-Horizon-Orion/backend/venv/lib/python3.11/site-packages (2.2.3)\n",
      "Requirement already satisfied: numpy>=1.23.2 in /home/sakie/Desktop/repos/Event-Horizon-Orion/backend/venv/lib/python3.11/site-packages (from pandas) (2.2.4)\n",
      "Requirement already satisfied: python-dateutil>=2.8.2 in /home/sakie/Desktop/repos/Event-Horizon-Orion/backend/venv/lib/python3.11/site-packages (from pandas) (2.9.0.post0)\n",
      "Requirement already satisfied: pytz>=2020.1 in /home/sakie/Desktop/repos/Event-Horizon-Orion/backend/venv/lib/python3.11/site-packages (from pandas) (2025.2)\n",
      "Requirement already satisfied: tzdata>=2022.7 in /home/sakie/Desktop/repos/Event-Horizon-Orion/backend/venv/lib/python3.11/site-packages (from pandas) (2025.2)\n",
      "Requirement already satisfied: six>=1.5 in /home/sakie/Desktop/repos/Event-Horizon-Orion/backend/venv/lib/python3.11/site-packages (from python-dateutil>=2.8.2->pandas) (1.17.0)\n",
      "Note: you may need to restart the kernel to use updated packages.\n"
     ]
    }
   ],
   "source": [
    "%pip install numpy\n",
    "%pip install pandas"
   ]
  },
  {
   "cell_type": "code",
   "execution_count": 6,
   "metadata": {},
   "outputs": [],
   "source": [
    "import numpy as np\n",
    "import pandas as pd"
   ]
  },
  {
   "cell_type": "markdown",
   "metadata": {},
   "source": [
    "High - 2\n",
    "Medium - 1\n",
    "Low - 0\n",
    "\n",
    "No - 0\n",
    "Yes - 1\n",
    "\n",
    "Fair - 0\n",
    "Excellent - 1"
   ]
  },
  {
   "cell_type": "code",
   "execution_count": 7,
   "metadata": {},
   "outputs": [],
   "source": [
    "sample_table = [[25,2,0,0,0],[30,2,0,1,0],[35,1,0, 0,1],[40,0,0,0,1],[45,0,0,0,1],[50,0,1,1,0],[55,1,1,1,1],[60,2,0,0,0]]\n",
    "sample_table_coloumns = [\"Age\", \"Income\", \"Student\", \"Credit Rating\", \"Buy Computer\"]\n",
    "df = pd.DataFrame.from_records(sample_table, columns=sample_table_coloumns)"
   ]
  },
  {
   "cell_type": "code",
   "execution_count": 8,
   "metadata": {},
   "outputs": [
    {
     "name": "stdout",
     "output_type": "stream",
     "text": [
      "   Age  Income  Student  Credit Rating  Buy Computer\n",
      "0   25       2        0              0             0\n",
      "1   30       2        0              1             0\n",
      "2   35       1        0              0             1\n",
      "3   40       0        0              0             1\n",
      "4   45       0        0              0             1\n",
      "5   50       0        1              1             0\n",
      "6   55       1        1              1             1\n",
      "7   60       2        0              0             0\n"
     ]
    }
   ],
   "source": [
    "print(df)"
   ]
  },
  {
   "cell_type": "code",
   "execution_count": 13,
   "metadata": {},
   "outputs": [
    {
     "name": "stdout",
     "output_type": "stream",
     "text": [
      "Best Gini impurity: 0.19999999999999996\n",
      "Best feature: Income\n",
      "Best split threshold: 1.5\n"
     ]
    }
   ],
   "source": [
    "def calculate_gini(p_class):\n",
    "    return 2*(1-p_class)*(p_class)\n",
    "\n",
    "def weight_gini_impurity(left, right, target_col):\n",
    "    n_left = len(left)\n",
    "    n_right = len(right)\n",
    "    total = n_left + n_right\n",
    "\n",
    "    # Compute the proportion of positives in the target column for left and right splits.\n",
    "    p_left = left[target_col].mean() if n_left > 0 else 0\n",
    "    p_right = right[target_col].mean() if n_right > 0 else 0\n",
    "\n",
    "    # Calculate the binary Gini impurity using 2 * p * (1-p)\n",
    "    gini_left = 2 * p_left * (1 - p_left)\n",
    "    gini_right = 2 * p_right * (1 - p_right)\n",
    "\n",
    "    # Return the weighted average of the impurity for the two splits.\n",
    "    return (n_left / total) * gini_left + (n_right / total) * gini_right\n",
    "\n",
    "income_label = [0.5,1.5]\n",
    "student_status_label = [0.5]\n",
    "credit_status = [0.5]\n",
    "age_status = [27.5,32.5,37.5,42.5,47.5,52.5,57.5]\n",
    "\n",
    "feature_array = [age_status, income_label, student_status_label, credit_status]\n",
    "input_columns = sample_table_coloumns[:-1]\n",
    "best_gini = float('inf')\n",
    "best_feature = None\n",
    "best_split = None\n",
    "\n",
    "# Calculating the best split, < and >=\n",
    "for idx in range(len(input_columns)):\n",
    "    col_name = input_columns[idx]\n",
    "    # Get candidate thresholds for this feature\n",
    "    candidate_thresholds = feature_array[idx]\n",
    "    for threshold in candidate_thresholds:\n",
    "        left_split = df[df[col_name] < threshold]\n",
    "        right_split = df[df[col_name] >= threshold]\n",
    "        gini_impurity = weight_gini_impurity(left_split, right_split, sample_table_coloumns[-1])\n",
    "        if gini_impurity < best_gini:\n",
    "            best_gini = gini_impurity\n",
    "            best_feature = col_name\n",
    "            best_split = threshold\n",
    "\n",
    "print(\"Best Gini impurity:\", best_gini)\n",
    "print(\"Best feature:\", best_feature)\n",
    "print(\"Best split threshold:\", best_split)\n",
    "\n"
   ]
  },
  {
   "cell_type": "code",
   "execution_count": null,
   "metadata": {},
   "outputs": [
    {
     "name": "stdout",
     "output_type": "stream",
     "text": [
      "Decision Tree Structure:\n",
      "Node: if Income < 1.5\n",
      "  Left:\n",
      "    Node: if Age < 47.5\n",
      "      Left:\n",
      "        Leaf: Predict = 1\n",
      "      Right:\n",
      "        Node: if Age < 52.5\n",
      "          Left:\n",
      "            Leaf: Predict = 0\n",
      "          Right:\n",
      "            Leaf: Predict = 1\n",
      "  Right:\n",
      "    Leaf: Predict = 0\n"
     ]
    }
   ],
   "source": [
    "def build_tree(df, depth, max_depth, min_samples, input_columns, feature_array, target_col):\n",
    "    # Stopping conditions:\n",
    "    #   1. Maximum depth reached\n",
    "    #   2. Too few samples to split further\n",
    "    #   3. Node is pure (all target values the same)\n",
    "    if depth >= max_depth or len(df) < min_samples or df[target_col].nunique() == 1:\n",
    "        # Create a leaf node with the majority class prediction\n",
    "        prediction = df[target_col].mode()[0]\n",
    "        return {\"type\": \"leaf\", \"prediction\": prediction}\n",
    "    \n",
    "    best_gini = float('inf')\n",
    "    best_feature = None\n",
    "    best_split = None\n",
    "    best_left = None\n",
    "    best_right = None\n",
    "    \n",
    "    for idx in range(len(input_columns)):\n",
    "        col_name = input_columns[idx]\n",
    "        candidate_thresholds = feature_array[idx]  # Candidate thresholds for this feature\n",
    "        for threshold in candidate_thresholds:\n",
    "            left_split = df[df[col_name] < threshold]\n",
    "            right_split = df[df[col_name] >= threshold]\n",
    "            \n",
    "            if len(left_split) == 0 or len(right_split) == 0:\n",
    "                continue\n",
    "            \n",
    "            gini_impurity = weight_gini_impurity(left_split, right_split, target_col)\n",
    "            if gini_impurity < best_gini:\n",
    "                best_gini = gini_impurity\n",
    "                best_feature = col_name\n",
    "                best_split = threshold\n",
    "                best_left = left_split\n",
    "                best_right = right_split\n",
    "\n",
    "    if best_feature is None:\n",
    "        prediction = df[target_col].mode()[0]\n",
    "        return {\"type\": \"leaf\", \"prediction\": prediction}\n",
    "\n",
    "    # Recursively build the left and right subtrees.\n",
    "    left_subtree = build_tree(best_left, depth + 1, max_depth, min_samples, input_columns, feature_array, target_col)\n",
    "    right_subtree = build_tree(best_right, depth + 1, max_depth, min_samples, input_columns, feature_array, target_col)\n",
    "    \n",
    "    return {\n",
    "        \"type\": \"node\",\n",
    "        \"feature\": best_feature,\n",
    "        \"threshold\": best_split,\n",
    "        \"left\": left_subtree,\n",
    "        \"right\": right_subtree\n",
    "    }\n",
    "\n",
    "max_depth  = 3\n",
    "min_samples = 2\n",
    "\n",
    "tree = build_tree(df, depth=0, max_depth=max_depth, min_samples=min_samples, \n",
    "                  input_columns=input_columns, feature_array=feature_array, \n",
    "                  target_col=sample_table_coloumns[-1])\n",
    "\n",
    "def print_tree(node, indent=\"\"):\n",
    "    \"\"\"\n",
    "    Recursively print the decision tree in a friendly format.\n",
    "    \n",
    "    Parameters:\n",
    "        node (dict): A node in the decision tree.\n",
    "        indent (str): Indentation string for current depth level.\n",
    "    \"\"\"\n",
    "    if node[\"type\"] == \"leaf\":\n",
    "        print(indent + \"Leaf: Predict =\", node[\"prediction\"])\n",
    "    else:\n",
    "        print(indent + f\"Node: if {node['feature']} < {node['threshold']}\")\n",
    "        print(indent + \"  Left:\")\n",
    "        print_tree(node[\"left\"], indent + \"    \")\n",
    "        print(indent + \"  Right:\")\n",
    "        print_tree(node[\"right\"], indent + \"    \")\n",
    "\n",
    "# Example usage:\n",
    "print(\"Decision Tree Structure:\")\n",
    "print_tree(tree)\n"
   ]
  }
 ],
 "metadata": {
  "kernelspec": {
   "display_name": "venv",
   "language": "python",
   "name": "python3"
  },
  "language_info": {
   "codemirror_mode": {
    "name": "ipython",
    "version": 3
   },
   "file_extension": ".py",
   "mimetype": "text/x-python",
   "name": "python",
   "nbconvert_exporter": "python",
   "pygments_lexer": "ipython3",
   "version": "3.11.2"
  }
 },
 "nbformat": 4,
 "nbformat_minor": 2
}
